{
 "cells": [
  {
   "cell_type": "markdown",
   "metadata": {},
   "source": [
    "# Recommender System"
   ]
  },
  {
   "cell_type": "markdown",
   "metadata": {},
   "source": [
    "Python implementation of Andrew Ng's Coursera course \"Introduction to Machine Learning\", Chapter 8.  The problem is to create a movie recommender system that takes existing user ratings for movies and generates recommendations to other users."
   ]
  },
  {
   "cell_type": "code",
   "execution_count": 258,
   "metadata": {
    "collapsed": true
   },
   "outputs": [],
   "source": [
    "import numpy as np\n",
    "import pandas as pd\n",
    "%matplotlib inline\n",
    "import matplotlib.pyplot as plt\n",
    "import scipy.io\n",
    "import re"
   ]
  },
  {
   "cell_type": "markdown",
   "metadata": {},
   "source": [
    "## Part 1: Loading the movie rating dataset"
   ]
  },
  {
   "cell_type": "markdown",
   "metadata": {},
   "source": [
    "The data set from Coursera was in Matlab format.  I went back to the original source (https://grouplens.org/datasets/movielens/) and got the small version of the data set.  This data set comes in separate CSV files for the movies, ratings, tags, and links."
   ]
  },
  {
   "cell_type": "code",
   "execution_count": 2,
   "metadata": {
    "collapsed": true
   },
   "outputs": [],
   "source": [
    "links = pd.read_csv(\"datasets/ml-latest-small/links.csv\").set_index(\"movieId\")\n",
    "ratings = pd.read_csv(\"datasets/ml-latest-small/ratings.csv\")\n",
    "tags = pd.read_csv(\"datasets/ml-latest-small/tags.csv\")\n",
    "movies = pd.read_csv(\"datasets/ml-latest-small/movies.csv\")"
   ]
  },
  {
   "cell_type": "code",
   "execution_count": 3,
   "metadata": {},
   "outputs": [
    {
     "data": {
      "text/html": [
       "<div>\n",
       "<style scoped>\n",
       "    .dataframe tbody tr th:only-of-type {\n",
       "        vertical-align: middle;\n",
       "    }\n",
       "\n",
       "    .dataframe tbody tr th {\n",
       "        vertical-align: top;\n",
       "    }\n",
       "\n",
       "    .dataframe thead th {\n",
       "        text-align: right;\n",
       "    }\n",
       "</style>\n",
       "<table border=\"1\" class=\"dataframe\">\n",
       "  <thead>\n",
       "    <tr style=\"text-align: right;\">\n",
       "      <th></th>\n",
       "      <th>movieId</th>\n",
       "      <th>title</th>\n",
       "      <th>genres</th>\n",
       "    </tr>\n",
       "  </thead>\n",
       "  <tbody>\n",
       "    <tr>\n",
       "      <th>0</th>\n",
       "      <td>1</td>\n",
       "      <td>Toy Story (1995)</td>\n",
       "      <td>Adventure|Animation|Children|Comedy|Fantasy</td>\n",
       "    </tr>\n",
       "    <tr>\n",
       "      <th>1</th>\n",
       "      <td>2</td>\n",
       "      <td>Jumanji (1995)</td>\n",
       "      <td>Adventure|Children|Fantasy</td>\n",
       "    </tr>\n",
       "    <tr>\n",
       "      <th>2</th>\n",
       "      <td>3</td>\n",
       "      <td>Grumpier Old Men (1995)</td>\n",
       "      <td>Comedy|Romance</td>\n",
       "    </tr>\n",
       "    <tr>\n",
       "      <th>3</th>\n",
       "      <td>4</td>\n",
       "      <td>Waiting to Exhale (1995)</td>\n",
       "      <td>Comedy|Drama|Romance</td>\n",
       "    </tr>\n",
       "    <tr>\n",
       "      <th>4</th>\n",
       "      <td>5</td>\n",
       "      <td>Father of the Bride Part II (1995)</td>\n",
       "      <td>Comedy</td>\n",
       "    </tr>\n",
       "  </tbody>\n",
       "</table>\n",
       "</div>"
      ],
      "text/plain": [
       "   movieId                               title  \\\n",
       "0        1                    Toy Story (1995)   \n",
       "1        2                      Jumanji (1995)   \n",
       "2        3             Grumpier Old Men (1995)   \n",
       "3        4            Waiting to Exhale (1995)   \n",
       "4        5  Father of the Bride Part II (1995)   \n",
       "\n",
       "                                        genres  \n",
       "0  Adventure|Animation|Children|Comedy|Fantasy  \n",
       "1                   Adventure|Children|Fantasy  \n",
       "2                               Comedy|Romance  \n",
       "3                         Comedy|Drama|Romance  \n",
       "4                                       Comedy  "
      ]
     },
     "execution_count": 3,
     "metadata": {},
     "output_type": "execute_result"
    }
   ],
   "source": [
    "#links.head()\n",
    "#ratings.head()\n",
    "#tags.head()\n",
    "movies.head()"
   ]
  },
  {
   "cell_type": "code",
   "execution_count": 4,
   "metadata": {},
   "outputs": [
    {
     "data": {
      "text/html": [
       "<div>\n",
       "<style scoped>\n",
       "    .dataframe tbody tr th:only-of-type {\n",
       "        vertical-align: middle;\n",
       "    }\n",
       "\n",
       "    .dataframe tbody tr th {\n",
       "        vertical-align: top;\n",
       "    }\n",
       "\n",
       "    .dataframe thead th {\n",
       "        text-align: right;\n",
       "    }\n",
       "</style>\n",
       "<table border=\"1\" class=\"dataframe\">\n",
       "  <thead>\n",
       "    <tr style=\"text-align: right;\">\n",
       "      <th></th>\n",
       "      <th>userId</th>\n",
       "      <th>movieId</th>\n",
       "      <th>rating</th>\n",
       "      <th>timestamp</th>\n",
       "    </tr>\n",
       "  </thead>\n",
       "  <tbody>\n",
       "    <tr>\n",
       "      <th>0</th>\n",
       "      <td>1</td>\n",
       "      <td>31</td>\n",
       "      <td>2.5</td>\n",
       "      <td>1260759144</td>\n",
       "    </tr>\n",
       "    <tr>\n",
       "      <th>1</th>\n",
       "      <td>1</td>\n",
       "      <td>1029</td>\n",
       "      <td>3.0</td>\n",
       "      <td>1260759179</td>\n",
       "    </tr>\n",
       "    <tr>\n",
       "      <th>2</th>\n",
       "      <td>1</td>\n",
       "      <td>1061</td>\n",
       "      <td>3.0</td>\n",
       "      <td>1260759182</td>\n",
       "    </tr>\n",
       "    <tr>\n",
       "      <th>3</th>\n",
       "      <td>1</td>\n",
       "      <td>1129</td>\n",
       "      <td>2.0</td>\n",
       "      <td>1260759185</td>\n",
       "    </tr>\n",
       "    <tr>\n",
       "      <th>4</th>\n",
       "      <td>1</td>\n",
       "      <td>1172</td>\n",
       "      <td>4.0</td>\n",
       "      <td>1260759205</td>\n",
       "    </tr>\n",
       "  </tbody>\n",
       "</table>\n",
       "</div>"
      ],
      "text/plain": [
       "   userId  movieId  rating   timestamp\n",
       "0       1       31     2.5  1260759144\n",
       "1       1     1029     3.0  1260759179\n",
       "2       1     1061     3.0  1260759182\n",
       "3       1     1129     2.0  1260759185\n",
       "4       1     1172     4.0  1260759205"
      ]
     },
     "execution_count": 4,
     "metadata": {},
     "output_type": "execute_result"
    }
   ],
   "source": [
    "ratings.head()"
   ]
  },
  {
   "cell_type": "code",
   "execution_count": 5,
   "metadata": {},
   "outputs": [
    {
     "data": {
      "text/plain": [
       "(100004, 4)"
      ]
     },
     "execution_count": 5,
     "metadata": {},
     "output_type": "execute_result"
    }
   ],
   "source": [
    "ratings.shape"
   ]
  },
  {
   "cell_type": "code",
   "execution_count": 6,
   "metadata": {
    "collapsed": true
   },
   "outputs": [],
   "source": [
    "# I found out that you can read in a Matlib .mat file with Scipy\n",
    "ex8_movies = scipy.io.loadmat(\"datasets/ex8_movies.mat\")"
   ]
  },
  {
   "cell_type": "code",
   "execution_count": 7,
   "metadata": {},
   "outputs": [
    {
     "data": {
      "text/plain": [
       "dict"
      ]
     },
     "execution_count": 7,
     "metadata": {},
     "output_type": "execute_result"
    }
   ],
   "source": [
    "type(ex8_movies)"
   ]
  },
  {
   "cell_type": "code",
   "execution_count": 8,
   "metadata": {},
   "outputs": [
    {
     "data": {
      "text/plain": [
       "{'R': array([[1, 1, 0, ..., 1, 0, 0],\n",
       "        [1, 0, 0, ..., 0, 0, 1],\n",
       "        [1, 0, 0, ..., 0, 0, 0],\n",
       "        ..., \n",
       "        [0, 0, 0, ..., 0, 0, 0],\n",
       "        [0, 0, 0, ..., 0, 0, 0],\n",
       "        [0, 0, 0, ..., 0, 0, 0]], dtype=uint8),\n",
       " 'Y': array([[5, 4, 0, ..., 5, 0, 0],\n",
       "        [3, 0, 0, ..., 0, 0, 5],\n",
       "        [4, 0, 0, ..., 0, 0, 0],\n",
       "        ..., \n",
       "        [0, 0, 0, ..., 0, 0, 0],\n",
       "        [0, 0, 0, ..., 0, 0, 0],\n",
       "        [0, 0, 0, ..., 0, 0, 0]], dtype=uint8),\n",
       " '__globals__': [],\n",
       " '__header__': b'MATLAB 5.0 MAT-file, Platform: GLNXA64, Created on: Thu Dec  1 17:19:26 2011',\n",
       " '__version__': '1.0'}"
      ]
     },
     "execution_count": 8,
     "metadata": {},
     "output_type": "execute_result"
    }
   ],
   "source": [
    "ex8_movies"
   ]
  },
  {
   "cell_type": "markdown",
   "metadata": {},
   "source": [
    "From the course documentation, Y is 1682 x 943 matrix, containing ratings (1-5) of 1682 movies by 943 users.\n",
    "\n",
    "R is 1682 x 943 matrix, where R(i,j) = 1 if and only if user j gave a rating to movie i."
   ]
  },
  {
   "cell_type": "code",
   "execution_count": 454,
   "metadata": {},
   "outputs": [
    {
     "name": "stdout",
     "output_type": "stream",
     "text": [
      "<class 'numpy.ndarray'>\n",
      "(1682, 943)\n",
      "[[5 4 0 ..., 5 0 0]\n",
      " [3 0 0 ..., 0 0 5]\n",
      " [4 0 0 ..., 0 0 0]\n",
      " ..., \n",
      " [1 0 0 ..., 0 0 0]\n",
      " [5 0 0 ..., 0 0 3]\n",
      " [3 2 0 ..., 0 0 0]]\n"
     ]
    }
   ],
   "source": [
    "Y = ex8_movies[\"Y\"]\n",
    "print(type(Y))\n",
    "print(Y.shape)\n",
    "print(Y[0:10])"
   ]
  },
  {
   "cell_type": "code",
   "execution_count": 455,
   "metadata": {},
   "outputs": [
    {
     "name": "stdout",
     "output_type": "stream",
     "text": [
      "<class 'numpy.ndarray'>\n",
      "(1682, 943)\n",
      "[[1 1 0 ..., 1 0 0]\n",
      " [1 0 0 ..., 0 0 1]\n",
      " [1 0 0 ..., 0 0 0]\n",
      " ..., \n",
      " [1 0 0 ..., 0 0 0]\n",
      " [1 0 0 ..., 0 0 1]\n",
      " [1 1 0 ..., 0 0 0]]\n"
     ]
    }
   ],
   "source": [
    "R = ex8_movies[\"R\"]\n",
    "print(type(R))\n",
    "print(R.shape)\n",
    "print(R[0:10])"
   ]
  },
  {
   "cell_type": "code",
   "execution_count": 456,
   "metadata": {},
   "outputs": [
    {
     "name": "stdout",
     "output_type": "stream",
     "text": [
      "[ True  True False False  True  True False False False  True]\n"
     ]
    }
   ],
   "source": [
    "test = (R[0] == 1)[0:10]\n",
    "print(test)"
   ]
  },
  {
   "cell_type": "code",
   "execution_count": 457,
   "metadata": {},
   "outputs": [
    {
     "data": {
      "text/plain": [
       "(array([  0,   1,   4,   5,   9,  12,  14,  15,  16,  17,  19,  20,  22,\n",
       "         24,  25,  37,  40,  41,  42,  43,  44,  48,  53,  55,  56,  57,\n",
       "         58,  61,  62,  63,  64,  65,  66,  69,  71,  72,  74,  76,  78,\n",
       "         80,  81,  82,  83,  88,  91,  92,  93,  94,  95,  96,  98, 100,\n",
       "        101, 105, 107, 108, 116, 119, 120, 123, 124, 127, 129, 130, 133,\n",
       "        136, 137, 140, 143, 144, 147, 149, 150, 156, 157, 159, 161, 167,\n",
       "        173, 176, 177, 180, 181, 183, 188, 192, 193, 197, 198, 199, 200,\n",
       "        201, 202, 203, 208, 209, 212, 215, 221, 222, 229, 230, 231, 233,\n",
       "        234, 241, 242, 243, 245, 246, 247, 248, 249, 250, 251, 252, 253,\n",
       "        255, 261, 262, 264, 267, 270, 273, 274, 275, 276, 278, 279, 285,\n",
       "        286, 288, 289, 290, 291, 292, 293, 294, 295, 296, 297, 298, 300,\n",
       "        302, 304, 306, 307, 310, 311, 312, 313, 319, 321, 323, 324, 325,\n",
       "        326, 329, 330, 331, 335, 337, 338, 339, 342, 343, 344, 346, 347,\n",
       "        349, 356, 358, 359, 362, 364, 370, 373, 377, 378, 379, 380, 386,\n",
       "        387, 388, 389, 392, 393, 394, 395, 397, 398, 400, 401, 402, 405,\n",
       "        406, 410, 411, 415, 416, 418, 421, 423, 424, 428, 431, 433, 434,\n",
       "        437, 440, 444, 446, 449, 453, 454, 455, 456, 457, 458, 459, 462,\n",
       "        464, 466, 467, 469, 470, 471, 477, 478, 482, 483, 485, 486, 487,\n",
       "        489, 492, 493, 494, 496, 499, 502, 504, 507, 511, 513, 516, 517,\n",
       "        520, 522, 524, 525, 531, 532, 533, 534, 535, 536, 539, 540, 541,\n",
       "        544, 547, 548, 549, 551, 552, 553, 559, 560, 561, 566, 568, 575,\n",
       "        576, 578, 579, 581, 587, 591, 592, 596, 598, 601, 604, 605, 608,\n",
       "        609, 611, 612, 613, 617, 619, 620, 621, 623, 629, 631, 633, 634,\n",
       "        635, 636, 641, 642, 647, 648, 649, 652, 653, 654, 656, 657, 659,\n",
       "        660, 662, 663, 664, 668, 673, 675, 676, 677, 678, 679, 681, 683,\n",
       "        688, 689, 690, 691, 696, 697, 698, 700, 702, 704, 705, 707, 708,\n",
       "        709, 713, 714, 715, 720, 722, 725, 726, 729, 730, 732, 734, 737,\n",
       "        741, 743, 744, 745, 746, 747, 748, 750, 755, 756, 758, 760, 762,\n",
       "        763, 766, 767, 768, 769, 770, 772, 776, 778, 784, 785, 787, 788,\n",
       "        789, 791, 792, 793, 794, 795, 797, 799, 803, 804, 805, 806, 814,\n",
       "        816, 820, 821, 822, 825, 828, 829, 830, 834, 837, 838, 842, 846,\n",
       "        851, 853, 863, 864, 866, 867, 869, 871, 878, 879, 880, 881, 882,\n",
       "        884, 885, 886, 888, 889, 891, 892, 893, 894, 895, 896, 898, 900,\n",
       "        901, 902, 906, 909, 912, 915, 916, 917, 918, 920, 921, 922, 923,\n",
       "        926, 928, 929, 931, 932, 933, 934, 935, 937, 940]),)"
      ]
     },
     "execution_count": 457,
     "metadata": {},
     "output_type": "execute_result"
    }
   ],
   "source": [
    "np.where(R[0]==1)"
   ]
  },
  {
   "cell_type": "code",
   "execution_count": 458,
   "metadata": {},
   "outputs": [
    {
     "name": "stdout",
     "output_type": "stream",
     "text": [
      "Average rating for movie 1 (Toy Story): 3.8783\n"
     ]
    }
   ],
   "source": [
    "# print the average rating for movie number 1 (Toy Story)\n",
    "print('Average rating for movie 1 (Toy Story): %.4f' %np.mean(Y[0,np.where(R[0]==1)]))"
   ]
  },
  {
   "cell_type": "markdown",
   "metadata": {},
   "source": [
    "Try to visualize the matrix."
   ]
  },
  {
   "cell_type": "code",
   "execution_count": 15,
   "metadata": {},
   "outputs": [
    {
     "data": {
      "text/plain": [
       "<matplotlib.image.AxesImage at 0x1105aadd8>"
      ]
     },
     "execution_count": 15,
     "metadata": {},
     "output_type": "execute_result"
    },
    {
     "data": {
      "image/png": "[encoded data removed]",
      "text/plain": [
       "<matplotlib.figure.Figure at 0x10ffd8828>"
      ]
     },
     "metadata": {},
     "output_type": "display_data"
    }
   ],
   "source": [
    "plt.imshow(Y)"
   ]
  },
  {
   "cell_type": "code",
   "execution_count": 16,
   "metadata": {
    "collapsed": true
   },
   "outputs": [],
   "source": [
    "# load in pre-trained weights\n",
    "ex8_movieParams = scipy.io.loadmat('ex8/ex8_movieParams.mat')"
   ]
  },
  {
   "cell_type": "code",
   "execution_count": 17,
   "metadata": {},
   "outputs": [
    {
     "data": {
      "text/plain": [
       "dict"
      ]
     },
     "execution_count": 17,
     "metadata": {},
     "output_type": "execute_result"
    }
   ],
   "source": [
    "type(ex8_movieParams)"
   ]
  },
  {
   "cell_type": "code",
   "execution_count": 18,
   "metadata": {},
   "outputs": [
    {
     "data": {
      "text/plain": [
       "{'Theta': array([[ 0.28544362, -1.68426509,  0.26293877, ...,  0.76723235,\n",
       "         -1.10460164, -0.25186708],\n",
       "        [ 0.50501321, -0.45464846,  0.31746244, ...,  1.09306336,\n",
       "         -1.20029436, -0.39161676],\n",
       "        [-0.43191656, -0.47880449,  0.84671111, ...,  1.36333976,\n",
       "         -0.32523542, -0.19468212],\n",
       "        ..., \n",
       "        [ 1.0586926 , -0.8087176 ,  0.56935771, ...,  0.80421422,\n",
       "         -0.74346778, -0.11985885],\n",
       "        [ 0.89058932, -0.12894734,  0.35560466, ...,  1.37426807,\n",
       "         -0.7526549 , -0.81135311],\n",
       "        [ 0.82414136, -0.38892594,  1.06940502, ...,  1.28423703,\n",
       "         -0.98349993, -0.53184838]]),\n",
       " 'X': array([[ 1.0486855 , -0.40023196,  1.19411945, ...,  0.861721  ,\n",
       "         -0.69728994,  0.28874563],\n",
       "        [ 0.78085123, -0.38562591,  0.52119779, ...,  0.70402073,\n",
       "         -0.48583521, -0.56462407],\n",
       "        [ 0.64150886, -0.54785385, -0.08379638, ...,  0.83854643,\n",
       "         -0.69483208, -1.13479631],\n",
       "        ..., \n",
       "        [ 0.21952237, -0.20047886,  0.09257965, ...,  0.14595183,\n",
       "         -0.0431316 ,  0.17830451],\n",
       "        [ 0.16044028, -0.16015395,  0.23570946, ...,  0.2073381 ,\n",
       "         -0.33234766,  0.0428813 ],\n",
       "        [ 0.07677118, -0.19720738,  0.08186445, ...,  0.40012757,\n",
       "         -0.28747906, -0.03233498]]),\n",
       " '__globals__': [],\n",
       " '__header__': b'MATLAB 5.0 MAT-file, Platform: GLNXA64, Created on: Thu Dec  1 17:16:53 2011',\n",
       " '__version__': '1.0',\n",
       " 'num_features': array([[10]], dtype=uint8),\n",
       " 'num_movies': array([[1682]], dtype=uint16),\n",
       " 'num_users': array([[943]], dtype=uint16)}"
      ]
     },
     "execution_count": 18,
     "metadata": {},
     "output_type": "execute_result"
    }
   ],
   "source": [
    "ex8_movieParams"
   ]
  },
  {
   "cell_type": "code",
   "execution_count": 222,
   "metadata": {},
   "outputs": [
    {
     "name": "stdout",
     "output_type": "stream",
     "text": [
      "(1682, 10)\n",
      "(943, 10)\n"
     ]
    }
   ],
   "source": [
    "#extract X and Theta\n",
    "X = ex8_movieParams[\"X\"]\n",
    "Theta = ex8_movieParams['Theta']\n",
    "num_features = ex8_movieParams['num_features']\n",
    "num_movies = ex8_movieParams['num_movies']\n",
    "num_users = ex8_movieParams['num_users']\n",
    "print(X.shape)\n",
    "print(Theta.shape)"
   ]
  },
  {
   "cell_type": "markdown",
   "metadata": {},
   "source": [
    "## Part 2: Collaborative Filtering Cost Function"
   ]
  },
  {
   "cell_type": "markdown",
   "metadata": {},
   "source": [
    "In the exercie, it says to reduce the size of all of these matrices so that things run faster."
   ]
  },
  {
   "cell_type": "code",
   "execution_count": 223,
   "metadata": {},
   "outputs": [
    {
     "name": "stdout",
     "output_type": "stream",
     "text": [
      "(5, 4)\n"
     ]
    }
   ],
   "source": [
    "num_users = 4\n",
    "num_movies = 5\n",
    "num_features = 3\n",
    "X_small = X[0:num_movies, 0:num_features]\n",
    "Theta_small = Theta[0:num_users, 0:num_features]\n",
    "Y_small = Y[0:num_movies, 0:num_users]\n",
    "R_small = R[0:num_movies, 0:num_users]\n",
    "print(Y_small.shape)"
   ]
  },
  {
   "cell_type": "code",
   "execution_count": 225,
   "metadata": {
    "collapsed": true
   },
   "outputs": [],
   "source": [
    "# define the collaborative filtering cost function \n",
    "def cofiCostFunction(params, Y, R, num_users, num_movies, num_features, lambdaval):\n",
    "    # Unfold the X and Theta matrices from params\n",
    "    X = params[0:num_movies*num_features].reshape(num_movies, num_features)\n",
    "    Theta = params[num_movies*num_features:].reshape(num_users, num_features)\n",
    "    # Initialie the cost\n",
    "    J = 0\n",
    "    # Compute the Cost Function\n",
    "    M = (np.dot(X, Theta.T)-Y)**2\n",
    "    # Unregularize Cost Function\n",
    "    J = 1/2.*np.sum(R*M)\n",
    "    # Add in Regularization\n",
    "    J = J + (lambdaval / 2 * np.sum(Theta**2)) + (lambdaval / 2 * np.sum(X**2))\n",
    "    return J"
   ]
  },
  {
   "cell_type": "code",
   "execution_count": 459,
   "metadata": {
    "collapsed": true
   },
   "outputs": [],
   "source": [
    "def cofiGradientFunction(params, Y, R, num_users, num_movies, num_features, lambdaval):\n",
    "    # Compute the Gradients X_grad, Theta_grad\n",
    "    # Loop over movies to compute X_grad for each movie\n",
    "    # Unfold the X and Theta matrices from params\n",
    "    X = params[0:num_movies*num_features].reshape(num_movies, num_features)\n",
    "    Theta = params[num_movies*num_features:].reshape(num_users, num_features)\n",
    "    # Initialize Gradients\n",
    "    X_grad = np.zeros(X.shape)\n",
    "    Theta_grad = np.zeros(Theta.shape)\n",
    "    # Loop over movies and compute X_grad for each movie\n",
    "    for i in range(0,num_movies):\n",
    "        Z = np.dot(((np.dot(X[i,:],Theta.T) - Y[i,:])*R[i,:]),Theta) + lambdaval * X[i,:]\n",
    "        X_grad[i,:] = Z\n",
    "    # End of loop\n",
    "    # Loop over users to compute Theta_grad for each user\n",
    "    for j in range(0,num_users):\n",
    "        Z = np.dot(((np.dot(Theta[j,:],X.T) - Y[:,j].T)*R[:,j]),X) + lambdaval * Theta[j,:]\n",
    "        Theta_grad[j,:] = Z\n",
    "    # End of loop\n",
    "    grad = np.concatenate((X_grad, Theta_grad)).flatten()    \n",
    "    return np.asarray(grad)"
   ]
  },
  {
   "cell_type": "code",
   "execution_count": 226,
   "metadata": {},
   "outputs": [
    {
     "name": "stdout",
     "output_type": "stream",
     "text": [
      "Cost function of loaded parameters: 22.2246037257\n"
     ]
    }
   ],
   "source": [
    "# test the cost function\n",
    "J = cofiCostFunction(np.concatenate((X_small,Theta_small)).flatten(), Y_small, R_small, num_users, num_movies, num_features, 0)\n",
    "print(\"Cost function of loaded parameters:\", J)"
   ]
  },
  {
   "cell_type": "markdown",
   "metadata": {},
   "source": [
    "Yay!  That is what the document says I should get at this point."
   ]
  },
  {
   "cell_type": "markdown",
   "metadata": {},
   "source": [
    "## Part 3: Collaborative Filtering Gradient"
   ]
  },
  {
   "cell_type": "markdown",
   "metadata": {},
   "source": [
    "Once your cost function matches, you should now implement / check the collaborative filtering gradient function."
   ]
  },
  {
   "cell_type": "code",
   "execution_count": 121,
   "metadata": {},
   "outputs": [
    {
     "name": "stdout",
     "output_type": "stream",
     "text": [
      "Y_t: \n",
      "[[ 0.78177414  0.6760293   0.21172172  0.65965177  0.76561657]\n",
      " [ 1.10071406  0.94470187  0.19716257  1.08739012  0.96260907]\n",
      " [ 1.5557393   1.34148705  0.31794945  1.33241546  1.17942779]\n",
      " [ 1.09731595  0.94826876  0.23153389  0.86443381  0.73898668]]\n",
      "Y_t zeroed:\n",
      "[[ 0.          0.          0.21172172  0.          0.        ]\n",
      " [ 0.          0.          0.19716257  0.          0.        ]\n",
      " [ 0.          0.          0.31794945  0.          0.        ]\n",
      " [ 0.          0.          0.23153389  0.          0.        ]]\n",
      "R_t:\n",
      "[[ 0.  0.  0.  0.  0.]\n",
      " [ 0.  0.  0.  0.  0.]\n",
      " [ 0.  0.  0.  0.  0.]\n",
      " [ 0.  0.  0.  0.  0.]]\n",
      "[[False False  True False False]\n",
      " [False False  True False False]\n",
      " [False False  True False False]\n",
      " [False False  True False False]]\n",
      "[[ 0.  0.  1.  0.  0.]\n",
      " [ 0.  0.  1.  0.  0.]\n",
      " [ 0.  0.  1.  0.  0.]\n",
      " [ 0.  0.  1.  0.  0.]]\n",
      "5\n"
     ]
    }
   ],
   "source": [
    "X_t = np.random.rand(4,3)\n",
    "Theta_t = np.random.rand(5,3)\n",
    "Y_t = np.dot(X_t, Theta_t.T)\n",
    "print(\"Y_t: \")\n",
    "print(Y_t)\n",
    "Y_t[np.where(Y_t > 0.5)] = 0\n",
    "#Y_t[(np.where(Y_t)) > 0.5] = 0\n",
    "print(\"Y_t zeroed:\")\n",
    "print(Y_t)\n",
    "R_t = np.zeros(Y_t.shape)\n",
    "print(\"R_t:\")\n",
    "print(R_t)\n",
    "print((Y_t != 0))\n",
    "R_t[(Y_t != 0)] = 1\n",
    "print(R_t)\n",
    "print(Y_t.shape[1])"
   ]
  },
  {
   "cell_type": "code",
   "execution_count": 160,
   "metadata": {},
   "outputs": [],
   "source": [
    "def computeNumericalGradient(J, theta, Y, R, num_users, num_movies, num_features, lambdaval):\n",
    "    # COMPUTENUMERICALGRADIENT Computes the gradient using \"finite differences\"\n",
    "    # and gives us a numerical estimate of the gradient.\n",
    "    # numgrad = COMPUTENUMERICALGRADIENT(J, theta) computes the numerical\n",
    "    # gradient of the function J around theta. Calling y = J(theta) should\n",
    "    # return the function value at theta.\n",
    "\n",
    "    # Notes: The following code implements numerical gradient checking, and \n",
    "    #    returns the numerical gradient.  It sets numgrad(i) to (a numerical \n",
    "    #    approximation of) the partial derivative of J with respect to the \n",
    "    #    i-th input argument, evaluated at theta. (i.e., numgrad(i) should \n",
    "    #    be the (approximately) the partial derivative of J with respect \n",
    "    #    to theta(i).)            \n",
    "\n",
    "    numgrad = np.zeros(theta.shape);\n",
    "    perturb = np.zeros(theta.shape);\n",
    "    e = 1e-4;\n",
    "    #print(\"NumericalGrad theta.size: {}\".format(theta.size))\n",
    "    p = [None] * theta.size\n",
    "    #print(range(0,theta.size))\n",
    "    for p in range(0,theta.size):\n",
    "        # Set perturbation vector\n",
    "        perturb[p] = e;\n",
    "        loss1 = J(theta - perturb, Y, R, num_users, num_movies, num_features, lambdaval);\n",
    "        loss2 = J(theta + perturb, Y, R, num_users, num_movies, num_features, lambdaval);\n",
    "        # Compute Numerical Gradient\n",
    "        numgrad[p] = (loss2 - loss1) / (2*e);\n",
    "        #print(\"NumGrad at {} = {}\".format(p,numgrad[p]))\n",
    "        perturb[p] = 0;\n",
    "    \n",
    "    return numgrad"
   ]
  },
  {
   "cell_type": "code",
   "execution_count": 161,
   "metadata": {},
   "outputs": [],
   "source": [
    "# define a function to check the Cost function that you defined above.\n",
    "# Creates a collaborative filtering problem\n",
    "# to check your cost function and gradients.\n",
    "# It will output the analytic gradients produced\n",
    "# by your code and the numerical gradients (computed\n",
    "# by the computeNumericalGradient function). These\n",
    "# two gradient computations should result in similar results.\n",
    "def checkCostFunction(lambdaval=None):\n",
    "    # set lambda\n",
    "    if not lambdaval:\n",
    "        lambdaval = 0\n",
    "    print(\"Using lambdaval:\",lambdaval)\n",
    "    # Create a small problem\n",
    "    X_t = np.random.rand(4, 3)\n",
    "    Theta_t = np.random.rand(5,3)\n",
    "    # Zap out most of the entries\n",
    "    Y_t = np.dot(X_t, Theta_t.T)\n",
    "    Y_t[np.where(Y_t > 0.5)] = 0\n",
    "    R_t = np.zeros(Y_t.shape)\n",
    "    R_t[(Y_t != 0)] = 1\n",
    "    # Run Gradient checking\n",
    "    X = np.random.rand(X_t.shape[0], X_t.shape[1])\n",
    "    Theta = np.random.rand(Theta_t.shape[0], Theta_t.shape[1])\n",
    "    num_movies, num_users = Y_t.shape\n",
    "    num_features = Theta_t.shape[1]\n",
    "    print(\"users {}, movies {}, features {}\".format(num_users, num_movies, num_features))\n",
    "    numGrad = computeNumericalGradient(cofiCostFunction, np.concatenate((X,Theta)).flatten(), \n",
    "                                       Y_t, R_t, num_users, num_movies, num_features, lambdaval)\n",
    "    cost = cofiCostFunction(np.concatenate((X,Theta)).flatten(), Y_t, R_t, num_users, \n",
    "                                  num_movies, num_features, lambdaval)\n",
    "    grad = cofiGradientFunction(np.concatenate((X,Theta)).flatten(), Y_t, R_t, num_users, \n",
    "                                  num_movies, num_features, lambdaval)\n",
    "    #print(numGrad)\n",
    "    #print(grad.flatten())\n",
    "    diff = np.linalg.norm(numGrad-grad.flatten()) / np.linalg.norm(numGrad+grad.flatten())\n",
    "    print(\"If your backprogation is correct, then the relative difference\")\n",
    "    print(\"will be small (less than 1e-9).\")\n",
    "    print(\"Relative Differece:\", diff)"
   ]
  },
  {
   "cell_type": "code",
   "execution_count": 247,
   "metadata": {},
   "outputs": [
    {
     "name": "stdout",
     "output_type": "stream",
     "text": [
      "Using lambdaval: 0\n",
      "users 5, movies 4, features 3\n",
      "If your backprogation is correct, then the relative difference\n",
      "will be small (less than 1e-9).\n",
      "Relative Differece: 6.98975590555e-13\n"
     ]
    }
   ],
   "source": [
    "# check the cost function\n",
    "checkCostFunction()"
   ]
  },
  {
   "cell_type": "markdown",
   "metadata": {},
   "source": [
    "## Part 4: Collaborative Filtering Cost Regularization"
   ]
  },
  {
   "cell_type": "markdown",
   "metadata": {},
   "source": [
    "Implement regularization to the cost function (above)"
   ]
  },
  {
   "cell_type": "code",
   "execution_count": 208,
   "metadata": {},
   "outputs": [
    {
     "name": "stdout",
     "output_type": "stream",
     "text": [
      "Cost function of loaded parameters: 31.3440562443\n"
     ]
    }
   ],
   "source": [
    "# test the cost function\n",
    "J = cofiCostFunction(np.concatenate((X_small,Theta_small)).flatten(), \n",
    "                           Y_small, R_small, num_users, num_movies, num_features, 1.5)\n",
    "print(\"Cost function of loaded parameters:\", J)"
   ]
  },
  {
   "cell_type": "markdown",
   "metadata": {},
   "source": [
    "That's the right answer!  Yay."
   ]
  },
  {
   "cell_type": "markdown",
   "metadata": {},
   "source": [
    "## Part 5: Collaborative Filtering Gradient Regularization"
   ]
  },
  {
   "cell_type": "markdown",
   "metadata": {},
   "source": [
    "Implement regularization to the gradient function (above)"
   ]
  },
  {
   "cell_type": "code",
   "execution_count": 229,
   "metadata": {},
   "outputs": [
    {
     "name": "stdout",
     "output_type": "stream",
     "text": [
      "Using lambdaval: 1.5\n",
      "users 5, movies 4, features 3\n",
      "If your backprogation is correct, then the relative difference\n",
      "will be small (less than 1e-9).\n",
      "Relative Differece: 1.30174204179e-12\n"
     ]
    }
   ],
   "source": [
    "# check the cost function\n",
    "checkCostFunction(1.5)"
   ]
  },
  {
   "cell_type": "markdown",
   "metadata": {},
   "source": [
    "## Part 6: Entering ratings for a new user"
   ]
  },
  {
   "cell_type": "markdown",
   "metadata": {},
   "source": [
    "Before we will train the collaborative filtering model, we will first add ratings that correspond to a new user that we just observed. This part of the code will also allow you to put in your own ratings for the movies in our dataset!"
   ]
  },
  {
   "cell_type": "markdown",
   "metadata": {},
   "source": [
    "First, define function for loading movie list from text file."
   ]
  },
  {
   "cell_type": "code",
   "execution_count": 451,
   "metadata": {
    "collapsed": true
   },
   "outputs": [],
   "source": [
    "def loadMovieList():\n",
    "    # GETMOVIELIST reads the fixed movie list in movie.txt and returns a\n",
    "    # cell array of the words\n",
    "    # movieList = GETMOVIELIST() reads the fixed movie list in movie.txt \n",
    "    # and returns a cell array of the words in movieList.\n",
    "            \n",
    "    # Store all movies in array movieList\n",
    "    n = 1682  # Total number of movies \n",
    "    \n",
    "    # Initialize return list\n",
    "    movieList = []\n",
    "    # Read the fixed movieulary list\n",
    "    # FIX: had to change encoding to latin-1\n",
    "    with open('datasets/movie_ids.txt','r', encoding='latin-1') as f:\n",
    "        for line in f:\n",
    "            part = line.split(' ', 1)\n",
    "            idx = part[0]\n",
    "            movie = part[1]\n",
    "            # Try regular expression instead\n",
    "            #if int(idx) < 100:\n",
    "            #    print(\"part01[0]: {}\".format(part01[0]))\n",
    "            #    print(\"id: {}, movie: {}\".format(idx, movie))\n",
    "            #movie = re.match(pattern=r\"\\s+\\w+\\s*\\w*\\s+\", string=line)\n",
    "            # Format should be:\n",
    "            # id moviename (year)\n",
    "            movieList.append(movie.strip())\n",
    "    return movieList"
   ]
  },
  {
   "cell_type": "code",
   "execution_count": 452,
   "metadata": {},
   "outputs": [
    {
     "data": {
      "text/plain": [
       "['GoldenEye (1995)',\n",
       " 'Four Rooms (1995)',\n",
       " 'Get Shorty (1995)',\n",
       " 'Copycat (1995)',\n",
       " 'Shanghai Triad (Yao a yao yao dao waipo qiao) (1995)',\n",
       " 'Twelve Monkeys (1995)',\n",
       " 'Babe (1995)',\n",
       " 'Dead Man Walking (1995)',\n",
       " 'Richard III (1995)']"
      ]
     },
     "execution_count": 452,
     "metadata": {},
     "output_type": "execute_result"
    }
   ],
   "source": [
    "movieList = loadMovieList() # load in the movie list\n",
    "movieList[1:10]"
   ]
  },
  {
   "cell_type": "code",
   "execution_count": 433,
   "metadata": {},
   "outputs": [],
   "source": [
    "# initialize my_ratings\n",
    "my_ratings = np.zeros((1682,1))"
   ]
  },
  {
   "cell_type": "code",
   "execution_count": 434,
   "metadata": {},
   "outputs": [],
   "source": [
    "# set some ratings for some other movies\n",
    "my_ratings[0] = 4  # Toy Story\n",
    "my_ratings[97] = 2 # Silence of the Lambs"
   ]
  },
  {
   "cell_type": "code",
   "execution_count": 435,
   "metadata": {
    "collapsed": true
   },
   "outputs": [],
   "source": [
    "# a bunch more\n",
    "my_ratings[6] = 3\n",
    "my_ratings[11] = 5\n",
    "my_ratings[53] = 4\n",
    "my_ratings[63] = 5\n",
    "my_ratings[65] = 3\n",
    "my_ratings[68] = 5\n",
    "my_ratings[182] = 4\n",
    "my_ratings[225] = 5\n",
    "my_ratings[354] = 5"
   ]
  },
  {
   "cell_type": "code",
   "execution_count": 440,
   "metadata": {},
   "outputs": [
    {
     "name": "stdout",
     "output_type": "stream",
     "text": [
      "New user ratings:\n",
      "Rated 4.0 for Toy Story \n",
      "Rated 3.0 for Twelve Monkeys \n",
      "Rated 5.0 for Usual Suspects, The \n",
      "Rated 4.0 for Outbreak \n",
      "Rated 5.0 for Shawshank Redemption, The \n",
      "Rated 3.0 for While You Were Sleeping \n",
      "Rated 5.0 for Forrest Gump \n",
      "Rated 2.0 for Silence of the Lambs, The \n",
      "Rated 4.0 for Alien \n",
      "Rated 5.0 for Die Hard 2 \n",
      "Rated 5.0 for Sphere \n"
     ]
    }
   ],
   "source": [
    "print(\"New user ratings:\")\n",
    "for i in range(len(my_ratings)):\n",
    "    if  my_ratings[i] > 0:\n",
    "        print(\"Rated {} for {}\".format(my_ratings[i,0], movieList[i]))"
   ]
  },
  {
   "cell_type": "markdown",
   "metadata": {},
   "source": [
    "## Part 7: Learning Movie Ratings"
   ]
  },
  {
   "cell_type": "markdown",
   "metadata": {},
   "source": [
    "Now, we will train the collaborative filtering model on a movie rating dataset of 1682 movies and 943 users."
   ]
  },
  {
   "cell_type": "code",
   "execution_count": 441,
   "metadata": {},
   "outputs": [
    {
     "name": "stdout",
     "output_type": "stream",
     "text": [
      "Trainng collaborative filtering...\n"
     ]
    }
   ],
   "source": [
    "print(\"Trainng collaborative filtering...\")"
   ]
  },
  {
   "cell_type": "code",
   "execution_count": 442,
   "metadata": {},
   "outputs": [],
   "source": [
    "def normalizeRatings(Y, R):\n",
    "    # NORMALIZERATINGS Preprocess data by subtracting mean rating for every \n",
    "    # movie (every row)\n",
    "    # [Ynorm, Ymean] = NORMALIZERATINGS(Y, R) normalized Y so that each movie\n",
    "    # has a rating of 0 on average, and returns the mean rating in Ymean.\n",
    "\n",
    "    m, n = Y.shape\n",
    "    Ymean = np.zeros(m)\n",
    "    Ynorm = np.zeros(Y.shape)\n",
    "    for i in range(0,m):\n",
    "        idx = np.nonzero(R[i,:] == 1)\n",
    "        Ymean[i] = np.mean(Y[i, idx])\n",
    "        Ynorm[i, idx] = Y[i, idx] - Ymean[i]\n",
    "        \n",
    "    return Ynorm, Ymean"
   ]
  },
  {
   "cell_type": "code",
   "execution_count": 443,
   "metadata": {},
   "outputs": [
    {
     "name": "stdout",
     "output_type": "stream",
     "text": [
      "Warning: Maximum number of iterations has been exceeded.\n",
      "         Current function value: 72092.780314\n",
      "         Iterations: 100\n",
      "         Function evaluations: 148\n",
      "         Gradient evaluations: 148\n"
     ]
    }
   ],
   "source": [
    "import scipy.optimize as op\n",
    "# make sure orginal data is loaded\n",
    "Y = ex8_movies[\"Y\"]\n",
    "R = ex8_movies[\"R\"]\n",
    "# print(Y.shape)\n",
    "# print(R.shape)\n",
    "\n",
    "# Add in our own ratings to the data matrix\n",
    "Y = np.hstack([my_ratings, Y])\n",
    "R = np.hstack([(my_ratings != 0), R])\n",
    "# print(Y.shape)\n",
    "# print(R.shape)\n",
    "\n",
    "# Normalize all of the ratings\n",
    "[Ynorm, Ymean] = normalizeRatings(Y,R)\n",
    "\n",
    "# Useful values\n",
    "num_movies, num_users = Y.shape\n",
    "num_features = 10\n",
    "\n",
    "# set initial parameters\n",
    "X = np.random.rand(num_movies, num_features)\n",
    "Theta = np.random.rand(num_users, num_features)\n",
    "#print(\"X shape:\", X.shape)\n",
    "#print(\"Theta shape:\", Theta.shape)\n",
    "#print(\"Y shape:\", Y.shape)\n",
    "#print(\"R shape:\", R.shape)\n",
    "#print(\"user: {}, movies: {}, features: {}\".format(num_users, num_movies, num_features))\n",
    "#initial_paramters = np.concatenate((X, Theta)).flatten()\n",
    "# Try vstack...\n",
    "initial_paramters = np.vstack([X, Theta]).flatten()\n",
    "#print(\"Init params shape: {}\".format(initial_paramters.shape))\n",
    "#print(\"Init params ndim: {}\".format(initial_paramters.ndim))\n",
    "# Set Regularization\n",
    "lambdaval = 10\n",
    "# Set options for fmincg\n",
    "args = (Y, R, num_users, num_movies, num_features, lambdaval)\n",
    "opts = {'maxiter' : 100,    # override default value.\n",
    "            'disp' : True,    # non-default value.\n",
    "            'gtol' : 1e-5,    # default value.\n",
    "            'norm' : np.inf,  # default value.\n",
    "            'eps' : 1.4901161193847656e-08}  # default value.\n",
    "theta = op.minimize(fun = cofiCostFunction,\n",
    "                    x0 = initial_paramters,\n",
    "                    args = args,\n",
    "                    method = 'CG',\n",
    "                    jac = cofiGradientFunction,\n",
    "                    options = opts)"
   ]
  },
  {
   "cell_type": "markdown",
   "metadata": {},
   "source": [
    "Unfold the resulting theta back into X and Theta"
   ]
  },
  {
   "cell_type": "code",
   "execution_count": 444,
   "metadata": {},
   "outputs": [
    {
     "name": "stdout",
     "output_type": "stream",
     "text": [
      "Recommender system learning complete\n"
     ]
    }
   ],
   "source": [
    "X = theta.x[0:num_movies*num_features].reshape(num_movies, num_features)\n",
    "Theta = theta.x[num_movies*num_features:].reshape(num_users, num_features)\n",
    "print(\"Recommender system learning complete\")"
   ]
  },
  {
   "cell_type": "markdown",
   "metadata": {},
   "source": [
    "## Part 8: Recommendations for you!"
   ]
  },
  {
   "cell_type": "markdown",
   "metadata": {},
   "source": [
    "After training the model, you can now make recommendations by computing the predictions matrix."
   ]
  },
  {
   "cell_type": "code",
   "execution_count": 453,
   "metadata": {},
   "outputs": [
    {
     "name": "stdout",
     "output_type": "stream",
     "text": [
      "\n",
      "Top 10 Recommendations for you.\n",
      "Predicting rating 8.56 for movie Star Wars (1977)\n",
      "Predicting rating 8.45 for movie Titanic (1997)\n",
      "Predicting rating 8.36 for movie Shawshank Redemption, The (1994)\n",
      "Predicting rating 8.24 for movie Raiders of the Lost Ark (1981)\n",
      "Predicting rating 8.17 for movie Schindler's List (1993)\n",
      "Predicting rating 8.13 for movie Good Will Hunting (1997)\n",
      "Predicting rating 8.05 for movie Usual Suspects, The (1995)\n",
      "Predicting rating 8.05 for movie Empire Strikes Back, The (1980)\n",
      "Predicting rating 8.02 for movie Braveheart (1995)\n",
      "Predicting rating 7.97 for movie Godfather, The (1972)\n",
      "\n",
      "Original Ratings provided.\n",
      "Rated 4.00 for movie Toy Story (1995)\n",
      "Rated 3.00 for movie Twelve Monkeys (1995)\n",
      "Rated 5.00 for movie Usual Suspects, The (1995)\n",
      "Rated 4.00 for movie Outbreak (1995)\n",
      "Rated 5.00 for movie Shawshank Redemption, The (1994)\n",
      "Rated 3.00 for movie While You Were Sleeping (1995)\n",
      "Rated 5.00 for movie Forrest Gump (1994)\n",
      "Rated 2.00 for movie Silence of the Lambs, The (1991)\n",
      "Rated 4.00 for movie Alien (1979)\n",
      "Rated 5.00 for movie Die Hard 2 (1990)\n",
      "Rated 5.00 for movie Sphere (1998)\n"
     ]
    }
   ],
   "source": [
    "#print(\"X shape: {}\".format(X.shape))\n",
    "#print(\"Theta shape: {}\".format(Theta.shape))\n",
    "# prediction matrix\n",
    "p = np.dot(X, Theta.T)\n",
    "# my predictions\n",
    "#print(\"Ymean shape: {}\".format(Ymean.shape))\n",
    "#print(Ymean.T)\n",
    "#print(\"p[:,0]\")\n",
    "#print(p[:,0])\n",
    "my_predictions = p[:,0] + Ymean.T\n",
    "# print(\"my_pred shape: {}\".format(my_predictions.shape))\n",
    "# print(type(my_predictions))\n",
    "#print(\"my pred size: {}\".format(my_predictions.shape))\n",
    "\n",
    "# reload movie list\n",
    "movieList = loadMovieList()\n",
    "\n",
    "# sort the recommendations for you\n",
    "# print(np.argmax(my_predictions))\n",
    "# print(my_predictions[312])\n",
    "# print(movieList[312])\n",
    "I = np.argsort(my_predictions)[::-1]\n",
    "\n",
    "print(\"\\nTop 10 Recommendations for you.\")\n",
    "for i in range(10):\n",
    "    j = I[i]\n",
    "    print(\"Predicting rating {:.2f} for movie {}\".format(my_predictions[I[i]], movieList[I[i]]))\n",
    "    \n",
    "print(\"\\nOriginal Ratings provided.\")\n",
    "for i in range(len(my_ratings)):\n",
    "    if my_ratings[i] > 0:\n",
    "        print(\"Rated {:.2f} for movie {}\".format(my_ratings[i,0], movieList[i]))\n",
    "    \n",
    "\n"
   ]
  }
 ],
 "metadata": {
  "kernelspec": {
   "display_name": "Python 3",
   "language": "python",
   "name": "python3"
  },
  "language_info": {
   "codemirror_mode": {
    "name": "ipython",
    "version": 3
   },
   "file_extension": ".py",
   "mimetype": "text/x-python",
   "name": "python",
   "nbconvert_exporter": "python",
   "pygments_lexer": "ipython3",
   "version": "3.6.1"
  }
 },
 "nbformat": 4,
 "nbformat_minor": 2
}
